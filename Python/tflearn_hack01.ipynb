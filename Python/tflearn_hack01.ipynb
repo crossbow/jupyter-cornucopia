{
 "cells": [
  {
   "cell_type": "markdown",
   "metadata": {},
   "source": [
    "https://chatbotslife.com/deep-learning-in-7-lines-of-code-7879a8ef8cfb"
   ]
  },
  {
   "cell_type": "code",
   "execution_count": 17,
   "metadata": {},
   "outputs": [],
   "source": [
    "import numpy as np\n",
    "import tflearn\n",
    "import random"
   ]
  },
  {
   "cell_type": "code",
   "execution_count": 18,
   "metadata": {},
   "outputs": [],
   "source": [
    "def create_feature_sets_and_labels():\n",
    "\n",
    "    # known patterns (5 features) output of [1] of positions [0,4]==1\n",
    "    features = []\n",
    "    features.append([[0, 0, 0, 0, 0], [0,1]])\n",
    "    features.append([[0, 0, 0, 0, 1], [0,1]])\n",
    "    #features.append([[0, 0, 0, 1, 1], [0,1]]) # Used in the test set\n",
    "    features.append([[0, 0, 1, 1, 1], [0,1]])\n",
    "    features.append([[0, 1, 1, 1, 1], [0,1]])\n",
    "    features.append([[1, 1, 1, 1, 0], [0,1]])\n",
    "    features.append([[1, 1, 1, 0, 0], [0,1]])\n",
    "    features.append([[1, 1, 0, 0, 0], [0,1]])\n",
    "    features.append([[1, 0, 0, 0, 0], [0,1]])\n",
    "    features.append([[1, 0, 0, 1, 0], [0,1]])\n",
    "    features.append([[1, 0, 1, 1, 0], [0,1]])\n",
    "    features.append([[1, 1, 0, 1, 0], [0,1]])\n",
    "    features.append([[0, 1, 0, 1, 1], [0,1]])\n",
    "    features.append([[0, 0, 1, 0, 1], [0,1]])\n",
    "    #features.append([[1, 0, 1, 1, 1], [1,0]])  # Used to make thing harder\n",
    "    features.append([[1, 1, 0, 1, 1], [1,0]])\n",
    "    #features.append([[1, 0, 1, 0, 1], [1,0]])  # Used in the test set\n",
    "    features.append([[1, 0, 0, 0, 1], [1,0]])\n",
    "    features.append([[1, 1, 0, 0, 1], [1,0]])\n",
    "    features.append([[1, 1, 1, 0, 1], [1,0]])\n",
    "    features.append([[1, 1, 1, 1, 1], [1,0]])\n",
    "    features.append([[1, 0, 0, 1, 1], [1,0]])\n",
    "\n",
    "    # shuffle our features and turn into np.array\n",
    "    random.shuffle(features)\n",
    "    features = np.array(features)\n",
    "\n",
    "    # create train and test lists\n",
    "    train_x = list(features[:,0])\n",
    "    train_y = list(features[:,1])\n",
    "\n",
    "    return train_x, train_y\n",
    "\n",
    "train_x, train_y = create_feature_sets_and_labels()\n",
    "\n",
    "import tensorflow as tf\n"
   ]
  },
  {
   "cell_type": "markdown",
   "metadata": {},
   "source": [
    "With n_epoch = 100"
   ]
  },
  {
   "cell_type": "code",
   "execution_count": 19,
   "metadata": {},
   "outputs": [
    {
     "name": "stdout",
     "output_type": "stream",
     "text": [
      "Training Step: 199  | total loss: \u001b[1m\u001b[32m0.09286\u001b[0m\u001b[0m | time: 0.038s\n",
      "| Adam | epoch: 100 | loss: 0.09286 - acc: 0.9883 -- iter: 16/19\n",
      "Training Step: 200  | total loss: \u001b[1m\u001b[32m0.09261\u001b[0m\u001b[0m | time: 0.113s\n",
      "| Adam | epoch: 100 | loss: 0.09261 - acc: 0.9895 -- iter: 19/19\n",
      "--\n",
      "n_epoch: 100\n",
      "Prediction: [[0.12143523 0.8785647 ]] - Expected result: [0,1]\n",
      "Prediction: [[0.95611185 0.04388819]] - Expected result: [1,0]\n"
     ]
    }
   ],
   "source": [
    "tf.reset_default_graph()\n",
    "\n",
    "# Build neural network\n",
    "net = tflearn.input_data(shape=[None, 5])\n",
    "net = tflearn.fully_connected(net, 32)\n",
    "net = tflearn.fully_connected(net, 32)\n",
    "net = tflearn.fully_connected(net, 2, activation='softmax')\n",
    "net = tflearn.regression(net)\n",
    "\n",
    "# Define model and setup tensorboard\n",
    "model = tflearn.DNN(net, tensorboard_dir='tflearn_logs')\n",
    "# Start training (apply gradient descent algorithm)\n",
    "n_epoch = 100\n",
    "model.fit(train_x, train_y, n_epoch=n_epoch, batch_size=16, show_metric=True)\n",
    "\n",
    "# Print prediction\n",
    "print(\"n_epoch: {}\".format(n_epoch))\n",
    "print(\"Prediction: {} - Expected result: {}\".format(model.predict([[0, 0, 0, 1, 1]]),\"[0,1]\"))  # [0,1]\n",
    "print(\"Prediction: {} - Expected result: {}\".format(model.predict([[1, 0, 1, 0, 1]]),\"[1,0]\"))  # [1,0]"
   ]
  },
  {
   "cell_type": "markdown",
   "metadata": {},
   "source": [
    "With n_epoch = 200"
   ]
  },
  {
   "cell_type": "code",
   "execution_count": 20,
   "metadata": {},
   "outputs": [
    {
     "name": "stdout",
     "output_type": "stream",
     "text": [
      "Training Step: 399  | total loss: \u001b[1m\u001b[32m0.00405\u001b[0m\u001b[0m | time: 0.006s\n",
      "| Adam | epoch: 200 | loss: 0.00405 - acc: 1.0000 -- iter: 16/19\n",
      "Training Step: 400  | total loss: \u001b[1m\u001b[32m0.00391\u001b[0m\u001b[0m | time: 0.035s\n",
      "| Adam | epoch: 200 | loss: 0.00391 - acc: 1.0000 -- iter: 19/19\n",
      "--\n",
      "n_epoch: 200\n",
      "Prediction: [[0.00504602 0.99495393]] - Expected result: [0,1]\n",
      "Prediction: [[0.9932846 0.0067154]] - Expected result: [1,0]\n"
     ]
    }
   ],
   "source": [
    "tf.reset_default_graph()\n",
    "\n",
    "# Build neural network\n",
    "net = tflearn.input_data(shape=[None, 5])\n",
    "net = tflearn.fully_connected(net, 32)\n",
    "net = tflearn.fully_connected(net, 32)\n",
    "net = tflearn.fully_connected(net, 2, activation='softmax')\n",
    "net = tflearn.regression(net)\n",
    "\n",
    "# Define model and setup tensorboard\n",
    "model = tflearn.DNN(net, tensorboard_dir='tflearn_logs')\n",
    "# Start training (apply gradient descent algorithm)\n",
    "n_epoch = 200\n",
    "model.fit(train_x, train_y, n_epoch=n_epoch, batch_size=16, show_metric=True)\n",
    "\n",
    "# Print prediction\n",
    "print(\"n_epoch: {}\".format(n_epoch))\n",
    "print(\"Prediction: {} - Expected result: {}\".format(model.predict([[0, 0, 0, 1, 1]]),\"[0,1]\"))  # [0,1]\n",
    "print(\"Prediction: {} - Expected result: {}\".format(model.predict([[1, 0, 1, 0, 1]]),\"[1,0]\"))  # [1,0]"
   ]
  },
  {
   "cell_type": "markdown",
   "metadata": {},
   "source": [
    "With n_epoch = 500\n",
    "\n",
    "It is as waste of time because an accuracy of approx 1 is gained before the 200th iteration"
   ]
  },
  {
   "cell_type": "code",
   "execution_count": 21,
   "metadata": {},
   "outputs": [
    {
     "name": "stdout",
     "output_type": "stream",
     "text": [
      "Training Step: 999  | total loss: \u001b[1m\u001b[32m0.00109\u001b[0m\u001b[0m | time: 0.005s\n",
      "| Adam | epoch: 500 | loss: 0.00109 - acc: 1.0000 -- iter: 16/19\n",
      "Training Step: 1000  | total loss: \u001b[1m\u001b[32m0.00108\u001b[0m\u001b[0m | time: 0.016s\n",
      "| Adam | epoch: 500 | loss: 0.00108 - acc: 1.0000 -- iter: 19/19\n",
      "--\n",
      "n_epoch: 500\n",
      "Prediction: [[0.00163695 0.9983631 ]] - Expected result: [0,1]\n",
      "Prediction: [[0.998281   0.00171899]] - Expected result: [1,0]\n"
     ]
    }
   ],
   "source": [
    "tf.reset_default_graph()\n",
    "\n",
    "# Build neural network\n",
    "net = tflearn.input_data(shape=[None, 5])\n",
    "net = tflearn.fully_connected(net, 32)\n",
    "net = tflearn.fully_connected(net, 32)\n",
    "net = tflearn.fully_connected(net, 2, activation='softmax')\n",
    "net = tflearn.regression(net)\n",
    "\n",
    "# Define model and setup tensorboard\n",
    "model = tflearn.DNN(net, tensorboard_dir='tflearn_logs')\n",
    "# Start training (apply gradient descent algorithm)\n",
    "n_epoch = 500\n",
    "model.fit(train_x, train_y, n_epoch=n_epoch, batch_size=16, show_metric=True)\n",
    "\n",
    "# Print prediction\n",
    "print(\"n_epoch: {}\".format(n_epoch))\n",
    "print(\"Prediction: {} - Expected result: {}\".format(model.predict([[0, 0, 0, 1, 1]]),\"[0,1]\"))  # [0,1]\n",
    "print(\"Prediction: {} - Expected result: {}\".format(model.predict([[1, 0, 1, 0, 1]]),\"[1,0]\"))  # [1,0]"
   ]
  },
  {
   "cell_type": "code",
   "execution_count": null,
   "metadata": {},
   "outputs": [],
   "source": []
  }
 ],
 "metadata": {
  "kernelspec": {
   "display_name": "Python 3",
   "language": "python",
   "name": "python3"
  },
  "language_info": {
   "codemirror_mode": {
    "name": "ipython",
    "version": 3
   },
   "file_extension": ".py",
   "mimetype": "text/x-python",
   "name": "python",
   "nbconvert_exporter": "python",
   "pygments_lexer": "ipython3",
   "version": "3.6.5"
  }
 },
 "nbformat": 4,
 "nbformat_minor": 2
}
